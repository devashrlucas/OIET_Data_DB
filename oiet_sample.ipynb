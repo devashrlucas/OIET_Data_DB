{
 "cells": [
  {
   "source": [
    "# Test"
   ],
   "cell_type": "markdown",
   "metadata": {}
  },
  {
   "cell_type": "code",
   "execution_count": 37,
   "metadata": {},
   "outputs": [
    {
     "output_type": "stream",
     "name": "stderr",
     "text": [
      "Python-dotenv could not parse statement starting at line 1\n"
     ]
    },
    {
     "output_type": "execute_result",
     "data": {
      "text/plain": [
       "     index  Unnamed: 0  year  month  day  countrycode test_rate new_test_rate  \\\n",
       "0        0           0  2020      1   21         1000         .             .   \n",
       "1        1           1  2020      1   22         1000         0             .   \n",
       "2        2           2  2020      1   23         1000         0             .   \n",
       "3        3           3  2020      1   24         1000         0             .   \n",
       "4        4           4  2020      1   25         1000         0             .   \n",
       "..     ...         ...   ...    ...  ...          ...       ...           ...   \n",
       "218    218         218  2020      8   26         1000     22438           208   \n",
       "219    219         219  2020      8   27         1000     22663           211   \n",
       "220    220         220  2020      8   28         1000     22898           212   \n",
       "221    221         221  2020      8   29         1000     23130           212   \n",
       "222    222         222  2020      8   30         1000     23355           218   \n",
       "\n",
       "       case_rate new_case_rate  death_rate new_death_rate  \n",
       "0       0.000305             .         0.0              .  \n",
       "1       0.000305             .         0.0              .  \n",
       "2       0.000305             .         0.0              .  \n",
       "3       0.000609             .         0.0              .  \n",
       "4       0.000914             .         0.0              .  \n",
       "..           ...           ...         ...            ...  \n",
       "218  1768.000000          12.8        53.5           .281  \n",
       "219  1781.000000          12.7        53.8           .285  \n",
       "220  1795.000000          12.6        54.1           .278  \n",
       "221  1809.000000          12.6        54.4           .275  \n",
       "222  1819.000000          12.7        54.5           .272  \n",
       "\n",
       "[223 rows x 12 columns]"
      ],
      "text/html": "<div>\n<style scoped>\n    .dataframe tbody tr th:only-of-type {\n        vertical-align: middle;\n    }\n\n    .dataframe tbody tr th {\n        vertical-align: top;\n    }\n\n    .dataframe thead th {\n        text-align: right;\n    }\n</style>\n<table border=\"1\" class=\"dataframe\">\n  <thead>\n    <tr style=\"text-align: right;\">\n      <th></th>\n      <th>index</th>\n      <th>Unnamed: 0</th>\n      <th>year</th>\n      <th>month</th>\n      <th>day</th>\n      <th>countrycode</th>\n      <th>test_rate</th>\n      <th>new_test_rate</th>\n      <th>case_rate</th>\n      <th>new_case_rate</th>\n      <th>death_rate</th>\n      <th>new_death_rate</th>\n    </tr>\n  </thead>\n  <tbody>\n    <tr>\n      <th>0</th>\n      <td>0</td>\n      <td>0</td>\n      <td>2020</td>\n      <td>1</td>\n      <td>21</td>\n      <td>1000</td>\n      <td>.</td>\n      <td>.</td>\n      <td>0.000305</td>\n      <td>.</td>\n      <td>0.0</td>\n      <td>.</td>\n    </tr>\n    <tr>\n      <th>1</th>\n      <td>1</td>\n      <td>1</td>\n      <td>2020</td>\n      <td>1</td>\n      <td>22</td>\n      <td>1000</td>\n      <td>0</td>\n      <td>.</td>\n      <td>0.000305</td>\n      <td>.</td>\n      <td>0.0</td>\n      <td>.</td>\n    </tr>\n    <tr>\n      <th>2</th>\n      <td>2</td>\n      <td>2</td>\n      <td>2020</td>\n      <td>1</td>\n      <td>23</td>\n      <td>1000</td>\n      <td>0</td>\n      <td>.</td>\n      <td>0.000305</td>\n      <td>.</td>\n      <td>0.0</td>\n      <td>.</td>\n    </tr>\n    <tr>\n      <th>3</th>\n      <td>3</td>\n      <td>3</td>\n      <td>2020</td>\n      <td>1</td>\n      <td>24</td>\n      <td>1000</td>\n      <td>0</td>\n      <td>.</td>\n      <td>0.000609</td>\n      <td>.</td>\n      <td>0.0</td>\n      <td>.</td>\n    </tr>\n    <tr>\n      <th>4</th>\n      <td>4</td>\n      <td>4</td>\n      <td>2020</td>\n      <td>1</td>\n      <td>25</td>\n      <td>1000</td>\n      <td>0</td>\n      <td>.</td>\n      <td>0.000914</td>\n      <td>.</td>\n      <td>0.0</td>\n      <td>.</td>\n    </tr>\n    <tr>\n      <th>...</th>\n      <td>...</td>\n      <td>...</td>\n      <td>...</td>\n      <td>...</td>\n      <td>...</td>\n      <td>...</td>\n      <td>...</td>\n      <td>...</td>\n      <td>...</td>\n      <td>...</td>\n      <td>...</td>\n      <td>...</td>\n    </tr>\n    <tr>\n      <th>218</th>\n      <td>218</td>\n      <td>218</td>\n      <td>2020</td>\n      <td>8</td>\n      <td>26</td>\n      <td>1000</td>\n      <td>22438</td>\n      <td>208</td>\n      <td>1768.000000</td>\n      <td>12.8</td>\n      <td>53.5</td>\n      <td>.281</td>\n    </tr>\n    <tr>\n      <th>219</th>\n      <td>219</td>\n      <td>219</td>\n      <td>2020</td>\n      <td>8</td>\n      <td>27</td>\n      <td>1000</td>\n      <td>22663</td>\n      <td>211</td>\n      <td>1781.000000</td>\n      <td>12.7</td>\n      <td>53.8</td>\n      <td>.285</td>\n    </tr>\n    <tr>\n      <th>220</th>\n      <td>220</td>\n      <td>220</td>\n      <td>2020</td>\n      <td>8</td>\n      <td>28</td>\n      <td>1000</td>\n      <td>22898</td>\n      <td>212</td>\n      <td>1795.000000</td>\n      <td>12.6</td>\n      <td>54.1</td>\n      <td>.278</td>\n    </tr>\n    <tr>\n      <th>221</th>\n      <td>221</td>\n      <td>221</td>\n      <td>2020</td>\n      <td>8</td>\n      <td>29</td>\n      <td>1000</td>\n      <td>23130</td>\n      <td>212</td>\n      <td>1809.000000</td>\n      <td>12.6</td>\n      <td>54.4</td>\n      <td>.275</td>\n    </tr>\n    <tr>\n      <th>222</th>\n      <td>222</td>\n      <td>222</td>\n      <td>2020</td>\n      <td>8</td>\n      <td>30</td>\n      <td>1000</td>\n      <td>23355</td>\n      <td>218</td>\n      <td>1819.000000</td>\n      <td>12.7</td>\n      <td>54.5</td>\n      <td>.272</td>\n    </tr>\n  </tbody>\n</table>\n<p>223 rows × 12 columns</p>\n</div>"
     },
     "metadata": {},
     "execution_count": 37
    }
   ],
   "source": [
    "import os\n",
    "import pandas as pd\n",
    "import matplotlib\n",
    "import psycopg2\n",
    "import sqlalchemy\n",
    "from sqlalchemy import create_engine\n",
    "from dotenv import load_dotenv\n",
    "\n",
    "\n",
    "load_dotenv()\n",
    "\n",
    "\n",
    "conn = create_engine(os.getenv(\"HEROKU_POSTGRESQL_BROWN_URL\"))\n",
    "pd.read_sql_query('''SELECT * FROM sample;''', conn)\n"
   ]
  },
  {
   "cell_type": "code",
   "execution_count": null,
   "metadata": {},
   "outputs": [],
   "source": []
  }
 ],
 "metadata": {
  "kernelspec": {
   "display_name": "Python 3",
   "language": "python",
   "name": "python3"
  },
  "language_info": {
   "codemirror_mode": {
    "name": "ipython",
    "version": 3
   },
   "file_extension": ".py",
   "mimetype": "text/x-python",
   "name": "python",
   "nbconvert_exporter": "python",
   "pygments_lexer": "ipython3",
   "version": "3.8.5-final"
  }
 },
 "nbformat": 4,
 "nbformat_minor": 5
}